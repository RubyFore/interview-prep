{
 "cells": [
  {
   "cell_type": "markdown",
   "id": "76378d66",
   "metadata": {},
   "source": [
    "---\n",
    "header-includes:\n",
    "  - \\usepackage{algorithm2e}\n",
    "---"
   ]
  },
  {
   "cell_type": "markdown",
   "id": "0cf510b7",
   "metadata": {},
   "source": [
    "```{prf:algorithm} Ford–Fulkerson\n",
    ":label: my-algorithm\n",
    "\n",
    "**Inputs** Given a Network $G=(V,E)$ with flow capacity $c$, a source node $s$, and a sink node $t$\n",
    "\n",
    "**Output** Compute a flow $f$ from $s$ to $t$ of maximum value\n",
    "\n",
    "1. $f(u, v) \\leftarrow 0$ for all edges $(u,v)$\n",
    "2. While there is a path $p$ from $s$ to $t$ in $G_{f}$ such that $c_{f}(u,v)>0$\n",
    "\tfor all edges $(u,v) \\in p$:\n",
    "\n",
    "\t1. Find $c_{f}(p)= \\min \\{c_{f}(u,v):(u,v)\\in p\\}$\n",
    "\t2. For each edge $(u,v) \\in p$\n",
    "\n",
    "\t\t1. $f(u,v) \\leftarrow f(u,v) + c_{f}(p)$ *(Send flow along the path)*\n",
    "\t\t2. $f(u,v) \\leftarrow f(u,v) - c_{f}(p)$ *(The flow might be \"returned\" later)*\n",
    "```"
   ]
  },
  {
   "cell_type": "markdown",
   "id": "88205975",
   "metadata": {},
   "source": []
  },
  {
   "cell_type": "markdown",
   "id": "2f484d74",
   "metadata": {},
   "source": [
    "---\n",
    "header-includes:\n",
    "  - \\usepackage[ruled,vlined,linesnumbered]{algorithm2e}\n",
    "---"
   ]
  },
  {
   "cell_type": "markdown",
   "id": "267f3ab3",
   "metadata": {},
   "source": [
    "## Linked Lists"
   ]
  },
  {
   "cell_type": "markdown",
   "id": "4343c4c5",
   "metadata": {},
   "source": [
    "### Singly Linked List Traversal"
   ]
  },
  {
   "cell_type": "markdown",
   "id": "176e0bb2",
   "metadata": {},
   "source": [
    "```{prf:algorithm} Liked-List-Traversal\n",
    "\n",
    "***Inputs*** head of singly linked list\n",
    "\n",
    "   1. pointer = head\n",
    "   2. while pointer is not null:\n",
    "       1. pointer = pointer.next\n",
    "```"
   ]
  },
  {
   "cell_type": "markdown",
   "id": "f60d8c9b",
   "metadata": {},
   "source": [
    "```\n",
    "ptr = head\n",
    "    while (ptr! = NULL)\n",
    "    {\n",
    "    ptr = ptr.next\n",
    "    }\n",
    "```"
   ]
  },
  {
   "cell_type": "code",
   "execution_count": 2,
   "id": "fb98d890",
   "metadata": {},
   "outputs": [
    {
     "ename": "NameError",
     "evalue": "name 'head' is not defined",
     "output_type": "error",
     "traceback": [
      "\u001b[0;31m---------------------------------------------------------------------------\u001b[0m",
      "\u001b[0;31mNameError\u001b[0m                                 Traceback (most recent call last)",
      "Cell \u001b[0;32mIn[2], line 1\u001b[0m\n\u001b[0;32m----> 1\u001b[0m ptr \u001b[38;5;241m=\u001b[39m \u001b[43mhead\u001b[49m\n\u001b[1;32m      2\u001b[0m \u001b[38;5;28;01mwhile\u001b[39;00m (ptr \u001b[38;5;241m!=\u001b[39m NULL):\n\u001b[1;32m      3\u001b[0m     ptr \u001b[38;5;241m=\u001b[39m ptr\u001b[38;5;241m.\u001b[39mnext\n",
      "\u001b[0;31mNameError\u001b[0m: name 'head' is not defined"
     ]
    }
   ],
   "source": [
    "ptr = head\n",
    "while (ptr != NULL):\n",
    "    ptr = ptr.next"
   ]
  },
  {
   "cell_type": "markdown",
   "id": "0cb88db8",
   "metadata": {},
   "source": [
    "### Doubly Linked List Insertion"
   ]
  },
  {
   "cell_type": "code",
   "execution_count": 1,
   "id": "03cc8ccc",
   "metadata": {},
   "outputs": [
    {
     "ename": "SyntaxError",
     "evalue": "unexpected character after line continuation character (2041911053.py, line 1)",
     "output_type": "error",
     "traceback": [
      "\u001b[0;36m  Cell \u001b[0;32mIn[1], line 1\u001b[0;36m\u001b[0m\n\u001b[0;31m    \\begin{algorithm}\u001b[0m\n\u001b[0m     ^\u001b[0m\n\u001b[0;31mSyntaxError\u001b[0m\u001b[0;31m:\u001b[0m unexpected character after line continuation character\n"
     ]
    }
   ],
   "source": [
    "\\begin{algorithm}\n",
    "\\end{algorithm}"
   ]
  },
  {
   "cell_type": "markdown",
   "id": "b25e29f4",
   "metadata": {},
   "source": [
    "## Trees, Tries and Graphs"
   ]
  },
  {
   "cell_type": "markdown",
   "id": "70b148b9",
   "metadata": {},
   "source": []
  },
  {
   "cell_type": "code",
   "execution_count": null,
   "id": "958a7ce4",
   "metadata": {},
   "outputs": [],
   "source": []
  },
  {
   "cell_type": "code",
   "execution_count": null,
   "id": "66fef6d3",
   "metadata": {},
   "outputs": [],
   "source": []
  },
  {
   "cell_type": "code",
   "execution_count": null,
   "id": "904e9c2b",
   "metadata": {},
   "outputs": [],
   "source": []
  },
  {
   "cell_type": "code",
   "execution_count": null,
   "id": "2abf43a8",
   "metadata": {},
   "outputs": [],
   "source": []
  },
  {
   "cell_type": "code",
   "execution_count": null,
   "id": "56601d34",
   "metadata": {},
   "outputs": [],
   "source": []
  },
  {
   "cell_type": "code",
   "execution_count": null,
   "id": "e820dc44",
   "metadata": {},
   "outputs": [],
   "source": []
  },
  {
   "cell_type": "code",
   "execution_count": null,
   "id": "f57d4fcc",
   "metadata": {},
   "outputs": [],
   "source": []
  },
  {
   "cell_type": "code",
   "execution_count": null,
   "id": "3bbe8eaa",
   "metadata": {},
   "outputs": [],
   "source": []
  },
  {
   "cell_type": "code",
   "execution_count": null,
   "id": "da9ed1db",
   "metadata": {},
   "outputs": [],
   "source": []
  },
  {
   "cell_type": "code",
   "execution_count": null,
   "id": "319d1d9f",
   "metadata": {},
   "outputs": [],
   "source": []
  }
 ],
 "metadata": {
  "kernelspec": {
   "display_name": "Python 3 (ipykernel)",
   "language": "python",
   "name": "python3"
  },
  "language_info": {
   "codemirror_mode": {
    "name": "ipython",
    "version": 3
   },
   "file_extension": ".py",
   "mimetype": "text/x-python",
   "name": "python",
   "nbconvert_exporter": "python",
   "pygments_lexer": "ipython3",
   "version": "3.9.16"
  }
 },
 "nbformat": 4,
 "nbformat_minor": 5
}
